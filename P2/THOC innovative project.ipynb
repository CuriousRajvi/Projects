{
 "cells": [
  {
   "cell_type": "markdown",
   "id": "ba178bed",
   "metadata": {},
   "source": [
    "# Roll no: 21BCE505 \n",
    "# Name: Rajvi Desai\n",
    "# Innovative assignment: Theory of Computation"
   ]
  },
  {
   "cell_type": "markdown",
   "id": "60c48bb1",
   "metadata": {},
   "source": [
    "# Aim: To check ambiguity in the context free grammar of parts of speech tag sentences and display parse trees of them"
   ]
  },
  {
   "cell_type": "markdown",
   "id": "8f9378dc",
   "metadata": {},
   "source": [
    "## <font color=\"green\" >Step-1 Import Libraries</font>"
   ]
  },
  {
   "cell_type": "code",
   "execution_count": 1,
   "id": "378b5921",
   "metadata": {},
   "outputs": [],
   "source": [
    "import io\n",
    "import nltk\n",
    "from nltk.tree import Tree\n",
    "import matplotlib.pyplot as plt"
   ]
  },
  {
   "cell_type": "markdown",
   "id": "10d56ff1",
   "metadata": {},
   "source": [
    "## <font color=\"green\" >Step-2 Define function to check ambiguity of grammar</font>"
   ]
  },
  {
   "cell_type": "code",
   "execution_count": 2,
   "id": "af1a9ab5",
   "metadata": {},
   "outputs": [],
   "source": [
    "def is_ambiguous(grammar, sentences):\n",
    "    # Convert the grammar to Chomsky normal form\n",
    "    cnf_grammar = nltk.CFG.fromstring(str(grammar))\n",
    "    cnf_grammar.chomsky_normal_form()\n",
    "    print('CNF Grammer')\n",
    "    print(cnf_grammar)\n",
    "    print()\n",
    "    # Check if each sentence has more than one parse tree\n",
    "    for sentence in sentences:\n",
    "        try:\n",
    "            parser = nltk.ChartParser(cnf_grammar)\n",
    "            parse_trees = list(parser.parse(sentence.split()))\n",
    "            num_parses = len(parse_trees)\n",
    "            if num_parses > 1:\n",
    "                print(f\"'{sentence}' is ambiguous.\\n\")\n",
    "                print(\"Parse trees of ambiguous grammar are:\")\n",
    "                draw_trees(parse_trees)\n",
    "\n",
    "            else:\n",
    "                print(f\"'{sentence}' is unambiguous.\\n\")\n",
    "        except ValueError:\n",
    "            print(f\"'{sentence}' is not present in the CFG.\\n\")"
   ]
  },
  {
   "cell_type": "markdown",
   "id": "55c14784",
   "metadata": {},
   "source": [
    "## <font color=\"green\" >Step-3 Define function to plot ambiguous grammar's parse tree</font>"
   ]
  },
  {
   "cell_type": "code",
   "execution_count": 3,
   "id": "01fc979e",
   "metadata": {},
   "outputs": [],
   "source": [
    "def draw_trees(trees):\n",
    "    fig, axes = plt.subplots(ncols=len(trees), figsize=(len(trees)*5, 1))\n",
    "    for i, tree in enumerate(trees):\n",
    "        if len(trees) > 1:\n",
    "            axes[i].set_title(f'Tree {i+1}')\n",
    "        else:\n",
    "            axes.set_title('Tree')\n",
    "        sio = io.StringIO()\n",
    "        tree.pretty_print(stream=sio)\n",
    "        axes[i].text(0.1, 0.9, sio.getvalue(), transform=axes[i].transAxes)\n",
    "        axes[i].axis('off')\n",
    "    plt.show()"
   ]
  },
  {
   "cell_type": "markdown",
   "id": "483faf97",
   "metadata": {},
   "source": [
    "## <font color=\"green\" >Step-4 Input the context free grammar and set of sentences</font>"
   ]
  },
  {
   "cell_type": "code",
   "execution_count": 4,
   "id": "75b0bd3a",
   "metadata": {},
   "outputs": [],
   "source": [
    "grammar = \"\"\"\n",
    "S -> NP VP\n",
    "NP -> Det N | Det N PP | N C\n",
    "VP -> V NP | V NP PP\n",
    "PP -> P NP \n",
    "Det -> 'a' | 'an' | 'the' \n",
    "N -> 'dog' | 'cat' | 'bird' | 'house' | 'food'\n",
    "V -> 'chased' | 'ate' | 'sat'\n",
    "P -> 'in' | 'on' | 'by' | 'of'\n",
    "C -> 'and'\n",
    "\"\"\"\n",
    "\n",
    "sentences = [\n",
    "    \"the dog chased the cat\",\n",
    "    \"a bird sat on the house\",\n",
    "    \"the cat ate the food\",\n",
    "    \"the bird ate the food in the house\",\n",
    "    \"a cat chased a bird on the roof\",\n",
    "    \"the bird sat on the roof by the food\",\n",
    "    \"hi my name is rajvi\",\n",
    "    \"the dog chased the cat in the house\"\n",
    "]"
   ]
  },
  {
   "cell_type": "markdown",
   "id": "0ea19f77",
   "metadata": {},
   "source": [
    "## <font color=\"green\" >Step-5 Test the function by calling it</font>"
   ]
  },
  {
   "cell_type": "code",
   "execution_count": 5,
   "id": "91bb6ed3",
   "metadata": {},
   "outputs": [
    {
     "name": "stdout",
     "output_type": "stream",
     "text": [
      "CFG: \n",
      "S -> NP VP\n",
      "NP -> Det N | Det N PP | N C\n",
      "VP -> V NP | V NP PP\n",
      "PP -> P NP \n",
      "Det -> 'a' | 'an' | 'the' \n",
      "N -> 'dog' | 'cat' | 'bird' | 'house' | 'food'\n",
      "V -> 'chased' | 'ate' | 'sat'\n",
      "P -> 'in' | 'on' | 'by' | 'of'\n",
      "C -> 'and'\n",
      "\n",
      "CNF Grammer\n",
      "Grammar with 23 productions (start state = S)\n",
      "    S -> NP VP\n",
      "    NP -> Det N\n",
      "    NP -> Det N PP\n",
      "    NP -> N C\n",
      "    VP -> V NP\n",
      "    VP -> V NP PP\n",
      "    PP -> P NP\n",
      "    Det -> 'a'\n",
      "    Det -> 'an'\n",
      "    Det -> 'the'\n",
      "    N -> 'dog'\n",
      "    N -> 'cat'\n",
      "    N -> 'bird'\n",
      "    N -> 'house'\n",
      "    N -> 'food'\n",
      "    V -> 'chased'\n",
      "    V -> 'ate'\n",
      "    V -> 'sat'\n",
      "    P -> 'in'\n",
      "    P -> 'on'\n",
      "    P -> 'by'\n",
      "    P -> 'of'\n",
      "    C -> 'and'\n",
      "\n",
      "'the dog chased the cat' is unambiguous.\n",
      "\n",
      "'a bird sat on the house' is unambiguous.\n",
      "\n",
      "'the cat ate the food' is unambiguous.\n",
      "\n",
      "'the bird ate the food in the house' is ambiguous.\n",
      "\n",
      "Parse trees of ambiguous grammar are:\n"
     ]
    },
    {
     "data": {
      "image/png": "[encoded data removed]",
      "text/plain": [
       "<Figure size 720x72 with 2 Axes>"
      ]
     },
     "metadata": {
      "needs_background": "light"
     },
     "output_type": "display_data"
    },
    {
     "name": "stdout",
     "output_type": "stream",
     "text": [
      "'a cat chased a bird on the roof' is not present in the CFG.\n",
      "\n",
      "'the bird sat on the roof by the food' is not present in the CFG.\n",
      "\n",
      "'hi my name is rajvi' is not present in the CFG.\n",
      "\n",
      "'the dog chased the cat in the house' is ambiguous.\n",
      "\n",
      "Parse trees of ambiguous grammar are:\n"
     ]
    },
    {
     "data": {
      "image/png": "[encoded data removed]",
      "text/plain": [
       "<Figure size 720x72 with 2 Axes>"
      ]
     },
     "metadata": {
      "needs_background": "light"
     },
     "output_type": "display_data"
    }
   ],
   "source": [
    "print(f'CFG: {grammar}')\n",
    "is_ambiguous(grammar, sentences)"
   ]
  }
 ],
 "metadata": {
  "kernelspec": {
   "display_name": "Python 3 (ipykernel)",
   "language": "python",
   "name": "python3"
  },
  "language_info": {
   "codemirror_mode": {
    "name": "ipython",
    "version": 3
   },
   "file_extension": ".py",
   "mimetype": "text/x-python",
   "name": "python",
   "nbconvert_exporter": "python",
   "pygments_lexer": "ipython3",
   "version": "3.9.7"
  }
 },
 "nbformat": 4,
 "nbformat_minor": 5
}
